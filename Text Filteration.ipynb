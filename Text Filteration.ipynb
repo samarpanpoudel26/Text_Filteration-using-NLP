{
 "cells": [
  {
   "cell_type": "code",
   "execution_count": 1,
   "id": "c05f5ab5-a8fb-433a-8355-9781a3677b20",
   "metadata": {},
   "outputs": [],
   "source": [
    "import nltk\n",
    "from nltk.corpus import stopwords, wordnet\n",
    "from nltk.tokenize import word_tokenize, sent_tokenize\n",
    "from nltk.stem import WordNetLemmatizer\n",
    "from nltk import pos_tag\n",
    "import re"
   ]
  },
  {
   "cell_type": "code",
   "execution_count": 2,
   "id": "66030547-0ccb-4daf-97d4-47c9ebe651f4",
   "metadata": {},
   "outputs": [
    {
     "name": "stderr",
     "output_type": "stream",
     "text": [
      "[nltk_data] Downloading package punkt to\n",
      "[nltk_data]     C:\\Users\\Suchana\\AppData\\Roaming\\nltk_data...\n",
      "[nltk_data]   Package punkt is already up-to-date!\n",
      "[nltk_data] Downloading package stopwords to\n",
      "[nltk_data]     C:\\Users\\Suchana\\AppData\\Roaming\\nltk_data...\n",
      "[nltk_data]   Package stopwords is already up-to-date!\n",
      "[nltk_data] Downloading package wordnet to\n",
      "[nltk_data]     C:\\Users\\Suchana\\AppData\\Roaming\\nltk_data...\n",
      "[nltk_data]   Package wordnet is already up-to-date!\n",
      "[nltk_data] Downloading package averaged_perceptron_tagger to\n",
      "[nltk_data]     C:\\Users\\Suchana\\AppData\\Roaming\\nltk_data...\n",
      "[nltk_data]   Package averaged_perceptron_tagger is already up-to-\n",
      "[nltk_data]       date!\n"
     ]
    }
   ],
   "source": [
    "# Download NLTK data\n",
    "nltk.download('punkt')\n",
    "nltk.download('stopwords')\n",
    "nltk.download('wordnet')\n",
    "nltk.download('averaged_perceptron_tagger')\n",
    "\n",
    "# Filler words\n",
    "filler_words = {\"um\", \"uh\", \"like\", \"you know\", \"actually\", \"basically\", \"literally\", \"so\", \"well\"}\n",
    "\n",
    "# Stopwords + filler\n",
    "stop_words = set(stopwords.words(\"english\")).union(filler_words)"
   ]
  },
  {
   "cell_type": "code",
   "execution_count": 3,
   "id": "87a62130-5b28-4906-a886-79233db50b05",
   "metadata": {},
   "outputs": [],
   "source": [
    "# POS mapping for lemmatizer\n",
    "def get_wordnet_pos(tag):\n",
    "    if tag.startswith('J'):\n",
    "        return wordnet.ADJ\n",
    "    elif tag.startswith('V'):\n",
    "        return wordnet.VERB\n",
    "    elif tag.startswith('N'):\n",
    "        return wordnet.NOUN\n",
    "    elif tag.startswith('R'):\n",
    "        return wordnet.ADV\n",
    "    else:\n",
    "        return wordnet.NOUN"
   ]
  },
  {
   "cell_type": "code",
   "execution_count": 4,
   "id": "8cdafc39-d775-4c3d-b3cb-c0c2d992a4a9",
   "metadata": {},
   "outputs": [],
   "source": [
    "def text_filteration(text):\n",
    "    text = text.lower()\n",
    "    sentences = sent_tokenize(text)\n",
    "\n",
    "    lemmatizer = WordNetLemmatizer()\n",
    "    result = []\n",
    "\n",
    "    for sent in sentences:\n",
    "        # Keep only period, remove all other special characters\n",
    "        sent_cleaned = re.sub(r\"[^\\w\\s.]\", \"\", sent)\n",
    "        tokens = word_tokenize(sent_cleaned)\n",
    "        tagged = pos_tag(tokens)\n",
    "\n",
    "        filtered = []\n",
    "        for word, tag in tagged:\n",
    "            if word == \".\":\n",
    "                filtered.append(\".\")  # keep period\n",
    "            elif word not in stop_words and len(word) > 2:\n",
    "                lemma = lemmatizer.lemmatize(word, get_wordnet_pos(tag))\n",
    "                filtered.append(lemma)\n",
    "\n",
    "        # Reconstruct sentence\n",
    "        cleaned_sent = \" \".join(filtered).replace(\" .\", \".\")\n",
    "        result.append(cleaned_sent)\n",
    "\n",
    "    return \" \".join(result)"
   ]
  },
  {
   "cell_type": "code",
   "execution_count": 8,
   "id": "4a3f48f4-4ce1-4e29-b616-be43a5011075",
   "metadata": {},
   "outputs": [
    {
     "name": "stdout",
     "output_type": "stream",
     "text": [
      "nepal beautiful country locate south asia nestle giant nation china india. despite relatively small size nepal incredibly diverse geographically culturally. home eight world ten high peak include mount everest tall mountain earth attract climber trekker globe. nepal landscape range snowcapped mountain lush forest flat plain deep valley offer breathtaking view abundant natural beauty. country also deeply spiritual birthplace siddhartha gautama know buddha dot ancient temple monastery shrine reflect strong religious tradition hinduism buddhism. nepalese culture rich colorful festival traditional music dance craft pass generation. people nepal know warmth resilience hospitality making visitor feel home. despite face challenge political instability natural disaster nepal continue move forward optimism pride. tourism agriculture remittance key part economy. overall nepal land natural wonder deep tradition offer unique unforgettable experience anyone visit.\n"
     ]
    }
   ],
   "source": [
    "# Example\n",
    "text = \"Nepal is a beautiful country located in South Asia, nestled between the giant nations of China and India. Despite its relatively small size, Nepal is incredibly diverse, both geographically and culturally. It is home to eight of the world’s ten highest peaks, including Mount Everest, the tallest mountain on Earth, which attracts climbers and trekkers from all over the globe. Nepal’s landscape ranges from snow-capped mountains and lush forests to flat plains and deep valleys, offering breathtaking views and abundant natural beauty. The country is also deeply spiritual, being the birthplace of Siddhartha Gautama, known as the Buddha, and is dotted with ancient temples, monasteries, and shrines that reflect its strong religious traditions in Hinduism and Buddhism. Nepalese culture is rich with colorful festivals, traditional music, dance, and crafts that have been passed down through generations. The people of Nepal are known for their warmth, resilience, and hospitality, making visitors feel at home. Despite facing challenges such as political instability and natural disasters, Nepal continues to move forward with optimism and pride. Tourism, agriculture, and remittances are key parts of its economy. Overall, Nepal is a land of natural wonders and deep traditions, offering a unique and unforgettable experience to anyone who visits.\"\n",
    "print(text_filteration(text))"
   ]
  },
  {
   "cell_type": "code",
   "execution_count": 6,
   "id": "d46b60aa-a365-4a79-9788-fbc52b33cbbf",
   "metadata": {},
   "outputs": [
    {
     "name": "stdout",
     "output_type": "stream",
     "text": [
      "science pursuit application knowledge understanding natural social world follow systematic methodology base evidence. scientific methodology include following objective observation measurement data possibly although necessarily use mathematics tool evidence.\n"
     ]
    }
   ],
   "source": [
    "text1=\"Science is the pursuit and application of knowledge and understanding of the natural and social world following a systematic methodology based on evidence. Scientific methodology includes the following: Objective observation: Measurement and data (possibly although not necessarily using mathematics as a tool) Evidence.\"\n",
    "print(text_filteration(text1))"
   ]
  },
  {
   "cell_type": "code",
   "execution_count": null,
   "id": "88b8b4dd-24f1-4dff-bbda-0b3618e71273",
   "metadata": {},
   "outputs": [],
   "source": []
  }
 ],
 "metadata": {
  "kernelspec": {
   "display_name": "Python 3 (ipykernel)",
   "language": "python",
   "name": "python3"
  },
  "language_info": {
   "codemirror_mode": {
    "name": "ipython",
    "version": 3
   },
   "file_extension": ".py",
   "mimetype": "text/x-python",
   "name": "python",
   "nbconvert_exporter": "python",
   "pygments_lexer": "ipython3",
   "version": "3.11.7"
  }
 },
 "nbformat": 4,
 "nbformat_minor": 5
}
